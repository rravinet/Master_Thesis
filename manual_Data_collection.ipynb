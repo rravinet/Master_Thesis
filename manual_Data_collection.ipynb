{
 "cells": [
  {
   "cell_type": "code",
   "execution_count": null,
   "metadata": {},
   "outputs": [],
   "source": [
    "#We won't be using this anymore. Sometimes Polygon API was giving us incomplete data so here was a a backup plan to pull the data from the API ourselves without using their function.\n",
    "# but now the issu is solved\n",
    "#"
   ]
  },
  {
   "cell_type": "code",
   "execution_count": 1,
   "metadata": {},
   "outputs": [],
   "source": [
    "import pandas as pd\n",
    "import numpy as np\n",
    "import yfinance as yf\n",
    "from polygon import RESTClient\n",
    "import datetime as dt\n",
    "import os\n",
    "from dotenv import load_dotenv\n",
    "import matplotlib.pyplot as plt\n",
    "import os\n",
    "import requests\n",
    "import aiohttp\n",
    "import asyncio\n",
    "from datetime import datetime, timedelta"
   ]
  },
  {
   "cell_type": "code",
   "execution_count": 2,
   "metadata": {},
   "outputs": [],
   "source": [
    "load_dotenv()\n",
    "api_key = os.getenv(\"API_KEY\")\n"
   ]
  },
  {
   "cell_type": "code",
   "execution_count": 3,
   "metadata": {},
   "outputs": [],
   "source": [
    "tickers=['AAPL']"
   ]
  },
  {
   "cell_type": "code",
   "execution_count": 7,
   "metadata": {},
   "outputs": [
    {
     "data": {
      "text/plain": [
       "['https://api.polygon.io/v2/aggs/ticker/AAPL/range/5/minute/2003-01-01/2003-09-18?adjusted=true&sort=asc&limit=50000&apiKey=RpovRC4_0dsV0iW9wOYVpXYImBqXsY7v',\n",
       " 'https://api.polygon.io/v2/aggs/ticker/AAPL/range/5/minute/2003-09-19/2004-06-05?adjusted=true&sort=asc&limit=50000&apiKey=RpovRC4_0dsV0iW9wOYVpXYImBqXsY7v',\n",
       " 'https://api.polygon.io/v2/aggs/ticker/AAPL/range/5/minute/2004-06-06/2005-02-21?adjusted=true&sort=asc&limit=50000&apiKey=RpovRC4_0dsV0iW9wOYVpXYImBqXsY7v',\n",
       " 'https://api.polygon.io/v2/aggs/ticker/AAPL/range/5/minute/2005-02-22/2005-11-09?adjusted=true&sort=asc&limit=50000&apiKey=RpovRC4_0dsV0iW9wOYVpXYImBqXsY7v',\n",
       " 'https://api.polygon.io/v2/aggs/ticker/AAPL/range/5/minute/2005-11-10/2006-07-28?adjusted=true&sort=asc&limit=50000&apiKey=RpovRC4_0dsV0iW9wOYVpXYImBqXsY7v',\n",
       " 'https://api.polygon.io/v2/aggs/ticker/AAPL/range/5/minute/2006-07-29/2007-04-15?adjusted=true&sort=asc&limit=50000&apiKey=RpovRC4_0dsV0iW9wOYVpXYImBqXsY7v',\n",
       " 'https://api.polygon.io/v2/aggs/ticker/AAPL/range/5/minute/2007-04-16/2008-01-01?adjusted=true&sort=asc&limit=50000&apiKey=RpovRC4_0dsV0iW9wOYVpXYImBqXsY7v',\n",
       " 'https://api.polygon.io/v2/aggs/ticker/AAPL/range/5/minute/2008-01-02/2008-09-18?adjusted=true&sort=asc&limit=50000&apiKey=RpovRC4_0dsV0iW9wOYVpXYImBqXsY7v',\n",
       " 'https://api.polygon.io/v2/aggs/ticker/AAPL/range/5/minute/2008-09-19/2009-06-06?adjusted=true&sort=asc&limit=50000&apiKey=RpovRC4_0dsV0iW9wOYVpXYImBqXsY7v',\n",
       " 'https://api.polygon.io/v2/aggs/ticker/AAPL/range/5/minute/2009-06-07/2010-02-22?adjusted=true&sort=asc&limit=50000&apiKey=RpovRC4_0dsV0iW9wOYVpXYImBqXsY7v',\n",
       " 'https://api.polygon.io/v2/aggs/ticker/AAPL/range/5/minute/2010-02-23/2010-11-10?adjusted=true&sort=asc&limit=50000&apiKey=RpovRC4_0dsV0iW9wOYVpXYImBqXsY7v',\n",
       " 'https://api.polygon.io/v2/aggs/ticker/AAPL/range/5/minute/2010-11-11/2011-07-29?adjusted=true&sort=asc&limit=50000&apiKey=RpovRC4_0dsV0iW9wOYVpXYImBqXsY7v',\n",
       " 'https://api.polygon.io/v2/aggs/ticker/AAPL/range/5/minute/2011-07-30/2012-04-15?adjusted=true&sort=asc&limit=50000&apiKey=RpovRC4_0dsV0iW9wOYVpXYImBqXsY7v',\n",
       " 'https://api.polygon.io/v2/aggs/ticker/AAPL/range/5/minute/2012-04-16/2013-01-01?adjusted=true&sort=asc&limit=50000&apiKey=RpovRC4_0dsV0iW9wOYVpXYImBqXsY7v',\n",
       " 'https://api.polygon.io/v2/aggs/ticker/AAPL/range/5/minute/2013-01-02/2013-09-19?adjusted=true&sort=asc&limit=50000&apiKey=RpovRC4_0dsV0iW9wOYVpXYImBqXsY7v',\n",
       " 'https://api.polygon.io/v2/aggs/ticker/AAPL/range/5/minute/2013-09-20/2014-06-07?adjusted=true&sort=asc&limit=50000&apiKey=RpovRC4_0dsV0iW9wOYVpXYImBqXsY7v',\n",
       " 'https://api.polygon.io/v2/aggs/ticker/AAPL/range/5/minute/2014-06-08/2015-02-23?adjusted=true&sort=asc&limit=50000&apiKey=RpovRC4_0dsV0iW9wOYVpXYImBqXsY7v',\n",
       " 'https://api.polygon.io/v2/aggs/ticker/AAPL/range/5/minute/2015-02-24/2015-11-11?adjusted=true&sort=asc&limit=50000&apiKey=RpovRC4_0dsV0iW9wOYVpXYImBqXsY7v',\n",
       " 'https://api.polygon.io/v2/aggs/ticker/AAPL/range/5/minute/2015-11-12/2016-07-29?adjusted=true&sort=asc&limit=50000&apiKey=RpovRC4_0dsV0iW9wOYVpXYImBqXsY7v',\n",
       " 'https://api.polygon.io/v2/aggs/ticker/AAPL/range/5/minute/2016-07-30/2017-04-16?adjusted=true&sort=asc&limit=50000&apiKey=RpovRC4_0dsV0iW9wOYVpXYImBqXsY7v',\n",
       " 'https://api.polygon.io/v2/aggs/ticker/AAPL/range/5/minute/2017-04-17/2018-01-02?adjusted=true&sort=asc&limit=50000&apiKey=RpovRC4_0dsV0iW9wOYVpXYImBqXsY7v',\n",
       " 'https://api.polygon.io/v2/aggs/ticker/AAPL/range/5/minute/2018-01-03/2018-09-20?adjusted=true&sort=asc&limit=50000&apiKey=RpovRC4_0dsV0iW9wOYVpXYImBqXsY7v',\n",
       " 'https://api.polygon.io/v2/aggs/ticker/AAPL/range/5/minute/2018-09-21/2019-06-08?adjusted=true&sort=asc&limit=50000&apiKey=RpovRC4_0dsV0iW9wOYVpXYImBqXsY7v',\n",
       " 'https://api.polygon.io/v2/aggs/ticker/AAPL/range/5/minute/2019-06-09/2020-02-24?adjusted=true&sort=asc&limit=50000&apiKey=RpovRC4_0dsV0iW9wOYVpXYImBqXsY7v',\n",
       " 'https://api.polygon.io/v2/aggs/ticker/AAPL/range/5/minute/2020-02-25/2020-11-11?adjusted=true&sort=asc&limit=50000&apiKey=RpovRC4_0dsV0iW9wOYVpXYImBqXsY7v',\n",
       " 'https://api.polygon.io/v2/aggs/ticker/AAPL/range/5/minute/2020-11-12/2021-07-30?adjusted=true&sort=asc&limit=50000&apiKey=RpovRC4_0dsV0iW9wOYVpXYImBqXsY7v',\n",
       " 'https://api.polygon.io/v2/aggs/ticker/AAPL/range/5/minute/2021-07-31/2022-04-17?adjusted=true&sort=asc&limit=50000&apiKey=RpovRC4_0dsV0iW9wOYVpXYImBqXsY7v',\n",
       " 'https://api.polygon.io/v2/aggs/ticker/AAPL/range/5/minute/2022-04-18/2023-01-03?adjusted=true&sort=asc&limit=50000&apiKey=RpovRC4_0dsV0iW9wOYVpXYImBqXsY7v',\n",
       " 'https://api.polygon.io/v2/aggs/ticker/AAPL/range/5/minute/2023-01-04/2023-09-21?adjusted=true&sort=asc&limit=50000&apiKey=RpovRC4_0dsV0iW9wOYVpXYImBqXsY7v',\n",
       " 'https://api.polygon.io/v2/aggs/ticker/AAPL/range/5/minute/2023-09-22/2024-02-01?adjusted=true&sort=asc&limit=50000&apiKey=RpovRC4_0dsV0iW9wOYVpXYImBqXsY7v']"
      ]
     },
     "execution_count": 7,
     "metadata": {},
     "output_type": "execute_result"
    }
   ],
   "source": [
    "data_fetcher.get_urls('AAPL')"
   ]
  },
  {
   "cell_type": "code",
   "execution_count": 4,
   "metadata": {},
   "outputs": [],
   "source": [
    "class Fetching_Data:\n",
    "    def __init__(self, tickers, trading_hours=16, start_date='2003-01-01', end_date='2024-02-01', timespan='minute', multiplier=5, limit=50000, api_key=api_key):\n",
    "        self.tickers = tickers\n",
    "        self.trading_hours = trading_hours\n",
    "        self.start_date = datetime.strptime(start_date, '%Y-%m-%d')\n",
    "        self.end_date = datetime.strptime(end_date, '%Y-%m-%d')\n",
    "        self.timespan = timespan\n",
    "        self.multiplier = multiplier\n",
    "        self.limit = limit\n",
    "        self.api_key = api_key\n",
    "\n",
    "    def calculate_range(self): # THIS IS WORKING FINE\n",
    "        if self.timespan == 'minute':\n",
    "            return (self.limit // (self.trading_hours * 60)) * self.multiplier\n",
    "        elif self.timespan == 'hour':\n",
    "            return (self.limit // self.trading_hours) * self.multiplier\n",
    "        elif self.timespan == 'day':\n",
    "            return self.limit * self.multiplier\n",
    "\n",
    "    def get_urls(self, ticker): # this is also working fine\n",
    "        urls = []\n",
    "        days_to_add = self.calculate_range()\n",
    "        from_date = self.start_date\n",
    "        while from_date < self.end_date:\n",
    "            to_date = from_date + timedelta(days=days_to_add)\n",
    "            if to_date > self.end_date:\n",
    "                to_date = self.end_date\n",
    "            url = f'https://api.polygon.io/v2/aggs/ticker/{ticker.strip()}/range/{self.multiplier}/{self.timespan}/{from_date.strftime(\"%Y-%m-%d\")}/{to_date.strftime(\"%Y-%m-%d\")}?adjusted=true&sort=asc&limit={self.limit}&apiKey={self.api_key}'\n",
    "            urls.append(url)\n",
    "            from_date = to_date + timedelta(days=1)\n",
    "        return urls\n",
    "\n",
    "    def fetch_data(self, url):\n",
    "        response = requests.get(url)\n",
    "        if response.status_code == 200:\n",
    "            return response.json()\n",
    "        else:\n",
    "            return None\n",
    "\n",
    "\n",
    "    def get_data(self):\n",
    "        for ticker in self.tickers:\n",
    "            urls = self.get_urls(ticker)\n",
    "            all_data = pd.DataFrame()  # Initialize an empty DataFrame to store all data.\n",
    "            for url in urls:\n",
    "                data = self.fetch_data(url)\n",
    "                if data and 'results' in data:  # Ensure there are results\n",
    "                    df = pd.DataFrame(data['results'])\n",
    "                    df['t'] = pd.to_datetime(df['t'], unit='ms').dt.tz_localize('UTC').dt.tz_convert('US/Eastern').dt.tz_localize(None)\n",
    "                    df = df.rename(columns={'t': 'Date'}).set_index('Date')\n",
    "                    df.drop(columns=['vw', 'o', 'h', 'l', 'v', 'n'], inplace=True)  # Adjust columns as needed\n",
    "                    all_data = pd.concat([all_data, df])  # Append each DataFrame to the all_data DataFrame\n",
    "\n",
    "            all_data.to_csv(f\"{ticker.strip()}_data.csv\", index=True)  # Save the combined DataFrame to CSV\n",
    "\n",
    "\n",
    "\n",
    "                    \n"
   ]
  },
  {
   "cell_type": "code",
   "execution_count": 5,
   "metadata": {},
   "outputs": [],
   "source": [
    "class DataPipeline:\n",
    "    def __init__(self, tickers, start_date='2003-01-01', end_date='2024-02-01', timespan='minute', multiplier=5, limit=50000):\n",
    "        self.tickers = tickers\n",
    "        self.start_date = start_date\n",
    "        self.end_date = end_date\n",
    "        self.timespan = timespan\n",
    "        self.multiplier = multiplier\n",
    "        self.limit = limit\n",
    "    \n",
    "    def load_csv_data(self, ticker):\n",
    "        \n",
    "        try:\n",
    "            data = pd.read_csv(f\"{ticker.strip()}_data.csv\")\n",
    "            data.index = pd.to_datetime(data['t'], unit='ms').tz_localize('UTC').dt.tz_convert('US/Eastern').dt.tz_localize(None)\n",
    "            data = data.rename(columns={'timestamp': 'Date'})\n",
    "            filtered_data = data.between_time('09:30', '16:00').copy()\n",
    "            # data = data.drop(columns=['o', 'vw', 'h', 'l', 'v', 't', 'n'])\n",
    "            return data, filtered_data\n",
    "        except FileNotFoundError:\n",
    "            print(f\"No CSV file found for {ticker}\")\n",
    "            return pd.DataFrame(), pd.DataFrame()\n",
    "\n",
    "    def process_data(self, df):\n",
    "        df['Day'] = pd.to_datetime(df.index).normalize()\n",
    "        df['returns'] = df['close'].pct_change()\n",
    "        df['log_ret'] = np.log(df['close']).diff()\n",
    "        df['squared_ret'] = df['returns']**2\n",
    "        df['squared_log_ret'] = df['log_ret']**2\n",
    "        return df\n",
    "    \n",
    "    def calculate_realized_var(self, df):\n",
    "        realized_var = df.groupby('Day').agg({'squared_ret': 'sum',\n",
    "                                              'squared_log_ret': 'sum'})\n",
    "        return realized_var.rename(columns={'squared_ret': 'daily_realised_var',\n",
    "                                            'squared_log_ret': 'daily_realised_log_var'})\n",
    "\n",
    "    def processing_pipeline(self):\n",
    "        results = {}\n",
    "        for ticker in self.tickers:\n",
    "            data, filtered_data = self.load_csv_data(ticker)\n",
    "            processed_data = self.process_data(data)\n",
    "            processed_filtered_data = self.process_data(filtered_data)\n",
    "            processed_data.to_csv(f'{ticker}_processed_data.csv')\n",
    "            processed_filtered_data.to_csv(f'{ticker}_filtered_data_processed.csv')\n",
    "            realized_var = self.calculate_realized_var(processed_data)\n",
    "            realized_var_filtered = self.calculate_realized_var(processed_filtered_data).add_prefix('filtered_')\n",
    "            final_var = realized_var.join(realized_var_filtered, how='outer')\n",
    "            final_var.to_csv(f'{ticker}_realized_var.csv')\n",
    "            results[ticker] = [realized_var, realized_var_filtered]\n",
    "        return results\n"
   ]
  },
  {
   "cell_type": "code",
   "execution_count": 6,
   "metadata": {},
   "outputs": [],
   "source": [
    "tickers=['AAPL']\n",
    "data_fetcher = Fetching_Data(tickers)\n",
    "\n",
    "# result = data_fetcher.get_urls()\n"
   ]
  },
  {
   "cell_type": "code",
   "execution_count": null,
   "metadata": {},
   "outputs": [],
   "source": [
    "pipeline = DataPipeline(tickers)\n",
    "results = pipeline.processing_pipeline()"
   ]
  },
  {
   "cell_type": "code",
   "execution_count": 21,
   "metadata": {},
   "outputs": [],
   "source": [
    "try_url = data_fetcher.get_urls('AAPL')[0]"
   ]
  }
 ],
 "metadata": {
  "kernelspec": {
   "display_name": "base",
   "language": "python",
   "name": "python3"
  },
  "language_info": {
   "codemirror_mode": {
    "name": "ipython",
    "version": 3
   },
   "file_extension": ".py",
   "mimetype": "text/x-python",
   "name": "python",
   "nbconvert_exporter": "python",
   "pygments_lexer": "ipython3",
   "version": "3.11.7"
  }
 },
 "nbformat": 4,
 "nbformat_minor": 2
}
